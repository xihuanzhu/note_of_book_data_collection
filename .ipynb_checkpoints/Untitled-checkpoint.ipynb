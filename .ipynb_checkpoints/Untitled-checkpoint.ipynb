{
 "cells": [
  {
   "cell_type": "code",
   "execution_count": 1,
   "metadata": {},
   "outputs": [
    {
     "data": {
      "text/plain": [
       "'\\n第十一章：图像识别与文字处理\\n'"
      ]
     },
     "execution_count": 1,
     "metadata": {},
     "output_type": "execute_result"
    }
   ],
   "source": [
    "\"\"\"\n",
    "第十一章：图像识别与文字处理\n",
    "\"\"\"\n",
    "# from PIL import Image, ImageFilter\n",
    "# kitten = Image.open(\"test.jpg\")\n",
    "# blurryKitten = kitten.filter(ImageFilter.GaussianBlur)\n",
    "# blurryKitten.save(\"test_blurred.jpg\")\n",
    "# blurryKitten.show()"
   ]
  },
  {
   "cell_type": "code",
   "execution_count": 6,
   "metadata": {},
   "outputs": [
    {
     "name": "stdout",
     "output_type": "stream",
     "text": [
      " \n",
      "\n",
      " \n",
      "\n",
      "8 8 4 1\n",
      "\n",
      " \n",
      "\n",
      " \n",
      "\n",
      "\n"
     ]
    }
   ],
   "source": [
    "import pytesseract\n",
    "from PIL import Image\n",
    "\n",
    "pytesseract.pytesseract.tesseract_cmd = r'F:\\software\\Tesseract-OCR\\tesseract.exe'\n",
    "img = Image.open('1.jpg')   \n",
    "text = pytesseract.image_to_string(img)\n",
    "print(text)"
   ]
  },
  {
   "cell_type": "code",
   "execution_count": 3,
   "metadata": {},
   "outputs": [
    {
     "name": "stdout",
     "output_type": "stream",
     "text": [
      "Bv TE p\n",
      "\n",
      "\n"
     ]
    }
   ],
   "source": [
    "from PIL import Image\n",
    "import subprocess\n",
    "#Tesseract 最大的缺点是对渐变背景色的处理\n",
    "def cleanFile(filePath, newFilePath):\n",
    "    image = Image.open(filePath)\n",
    "    # 对图片进行阈值过滤，然后保存\n",
    "    image = image.point(lambda x: 0 if x<143 else 255)\n",
    "    image.save(newFilePath)\n",
    "    # 调用系统的tesseract命令对图片进行OCR识别\n",
    "    subprocess.call([r\"F:\\software\\Tesseract-OCR\\tesseract.exe\", newFilePath, \"output\"])\n",
    "    # 打开文件读取结果\n",
    "    outputFile = open(\"output.txt\", 'r')\n",
    "    print(outputFile.read())\n",
    "    outputFile.close()\n",
    "    \n",
    "cleanFile(\"captcha.jpg\", \"captcha_clean.jpg\")"
   ]
  },
  {
   "cell_type": "code",
   "execution_count": 5,
   "metadata": {},
   "outputs": [
    {
     "name": "stdout",
     "output_type": "stream",
     "text": [
      "Cormrighted taterial\n",
      "o tostor\n",
      "\n",
      "War And Peace\n",
      "to torstoy\n",
      "isin roman\n",
      "Consign 0 anis iy\n",
      "World Clasies\n",
      "\n",
      "10, tox aos\n",
      "ny rie\n",
      "\n",
      "Cormrighted taterial\n",
      "\n",
      "\n",
      "Cormrighted taterial\n",
      "o tostor\n",
      "\n",
      "Contents\n",
      "\n",
      " \n",
      "\n",
      "soot rous: is.\n",
      "\n",
      " \n",
      "\n",
      "Book rive: isos -or\n",
      "\n",
      " \n",
      "\n",
      "BOOK SDG 10K ttt\n",
      "nook seven isto- n\n",
      "soo rir: ist 12\n",
      "\n",
      " \n",
      "\n",
      "nook sive: ia\n",
      "soo ren imo.\n",
      "sook Euevine 2\n",
      "\n",
      " \n",
      "\n",
      " \n",
      "\n",
      "soo iz\n",
      "soo iz\n",
      "soo route\n",
      "nook mieten ma- 1s\n",
      "\n",
      " \n",
      "\n",
      "ie..\n",
      "\n",
      "  \n",
      "\n",
      " \n",
      "\n",
      "rirsr ertuooue: is- 2\n",
      "\n",
      " \n",
      " \n",
      "\n",
      "SECOND EPILOGIE...............\n",
      "\n",
      "Cormrighted taterial\n",
      "\n",
      "\n",
      "Cormrighted taterial\n",
      "wae morence\n",
      "\n",
      "soocou: isos\n",
      "\n",
      "cusrrert\n",
      "\n",
      "\"Well Prins, so Geno and oce are now jus fanily estates ofthe Boonaparto. ut\n",
      "1 warn ou, if ou dont ell me that this means war, if yo stl tyto defend the nfanics\n",
      "and horrors perpetrated by hat realy he is Anichrit=1 wil have\n",
      "nothing more t dowith ou and you are no longer my frend, o longer my Tita save?\n",
      "an yo call yousef Hut how d you da? Ise bave figtened you--st down and tell me\n",
      "all the news\"\n",
      "\n",
      "Ht wan in Jul, 1908, and the pear was the wel known Anna Ptowna Scherer, maid\n",
      "of honor and tavorte ofthe Emprew Mirya Fedarovna. With these wands she greted\n",
      "Prince Vali Kurigin a man of high rank and importance who was the irst t arrive at\n",
      "her rection. Anna Pislona had had a cough for some diys. She was, as she ai.\n",
      "suffering from e gipp: rippe bin then a now word n St. Petrshur, uscd ony by the\n",
      "dl\n",
      "\n",
      "All her itation witout exception writen in French, and deisered by a\n",
      "\n",
      "foutman that morning, ran as filtoms:\n",
      "\"I you have nothing bete todo Count (o Princo. ad if the prone of ponding an\n",
      "ening witha nor valid notto teribl, I shul be very charmed t ee you tomate\n",
      "between 7 and 10-Amette Sce\n",
      "\n",
      "Hbeavest what a irden atack\" replied th rine, notin he as dhconcerted by\n",
      "thisrcepion He ha ust entera wearing an embrvidere cour uniform, nee breeches,\n",
      "and shoes, and had stars on his brant and a ereneexprosion on lis atic, He sole in\n",
      "that refint Erench in which our grandfathers nt only spoke but thought, and with the\n",
      "atts patronisin intonation natural a man of mportance who had rown old in society\n",
      "wd at cour Mle went up to Anna Potova, nne her hand. prescot to her hs bak,\n",
      "scented, and shining hea. and complacent seated th so\n",
      "\n",
      "\"Eis of ll eae fied, (el me how you are St your frind mind at rest,\" aid he\n",
      "without attring his tae, beneath the poiterss and affeted sympathy of which\n",
      "intiferenc and eve irony coud b dicernc.\n",
      "\n",
      "\"Can une be wll wile sufering murat? Can on he cal in times ke thee if one\n",
      "has any fing?\" aid Anpa Pvlovna \"Yow are sang the whole evening, I hope?\"\n",
      "\n",
      "\"And the fee at the Engl Today is Wednesday. 1 must put in an\n",
      "anpearance ther,\" aid th priv,\" My daughter i coming for me t ake me ther.\"\n",
      "\n",
      "\"I today's et had been canceled. I cont all thee Fetites and reverts\n",
      "are becoming werriome\n",
      "\n",
      "\"If they had kinin hat you wihed it; the entertainment would have becn pat of.\"\n",
      "wald the prin, who, ike a wound up clck, y force of abi sud things e did mot even\n",
      "\n",
      "    \n",
      "\n",
      "   \n",
      "\n",
      "   \n",
      "\n",
      " \n",
      "\n",
      "   \n",
      "\n",
      " \n",
      "\n",
      " \n",
      "\n",
      " \n",
      "\n",
      "   \n",
      "\n",
      " \n",
      "\n",
      " \n",
      "\n",
      "   \n",
      "\n",
      " \n",
      "\n",
      "\"Don't tease Well and what has ben decided abou Novostser's sparcht You now\n",
      "eventing.\"\n",
      "\n",
      "\"What ca one say about t\" epi th prince na cold ttle ton. \"What has een\n",
      "decided? They have decided that Buonaparc has burn hi boats and I that weare\n",
      "ready to bar ours.\"\n",
      "\n",
      "Prince Vsti always spobe languidy, ike an actor reporting a stale part Anna\n",
      "Pivlnna Scher an th contrary, dite he fot years overflowed with animation and\n",
      "impulsivencs, Tobe an eitusast had become her social vocation and sometimes ven\n",
      "when she did mot fct ike it ahe became in order not to appoint the\n",
      "pectation of thne who knew her. The subdued anil whic thouc it did not uit her\n",
      "\n",
      " \n",
      "\n",
      " \n",
      "\n",
      " \n",
      "\n",
      "s\n",
      "\n",
      "Cormrighted taterial\n",
      "\n",
      "\n",
      "Cormrighted taterial\n",
      "o tostor\n",
      "\n",
      "commer\n",
      "\n",
      "Ana Pivtova's drawing mom was gradually ling, Th highest Peerstury s\n",
      "was asenbed theres peopl difering widely tn ane and character but alike in the soca\n",
      "芦irl to whch they belonged. Prince Vasto dangitr, the beau Helie, came to ake\n",
      "her father o th entertainment she wore a bul drs and her ade as maid\n",
      "f hana, The youtiat rte Princas Bolkinakaya, known at erie t plus stviante\n",
      "de Ptersbre, * wa also ther, She bad been married during the previous winter, and\n",
      "being prcgnant did not goto any large gatherings, bat ony to snallrecepions. Prince\n",
      "Vasil on Hippolyte, had come with Mortemart, whar h introduced. The Abb茅 Mori\n",
      "and man others had abo cone\n",
      "\n",
      "掳 The mos fscinting women in Pndurg\n",
      "\n",
      "\"o each new arrival Anna Pivtorna sid, \"You have not yet seen my aunt,\" oe \"Vou\n",
      "donot know m aunt?\" and very gravely conduct him o her o ft old ns, werring\n",
      "lar bows orion in her ea who had come singin rom another room as soon a the\n",
      "sets began to artic: and slowly turning her eves from the visto to her nt, Anta\n",
      "Pistoia mentioned each one's ame andthen et then.\n",
      "\n",
      "Each visto performed the ceremony of gesting th old mont whom not one of hem\n",
      "knew, not. on o them wanted o kao: and not one of them cared about Anna Pivtovia\n",
      "abner the nretings with mournful and stem iterat and stent approval. The aunt\n",
      "spake t ach of them inthe ame word, abou thse health and he oun, and he heath\n",
      "of Hier Majats \"whe, thank Gad, was beter tas,\" And each visto, though polteres\n",
      "perverted his showing impatiens, l the old woman with a nose of relic at having\n",
      "performed a vetatiow duty and id ot return t hr the whle evening.\n",
      "\n",
      "\"The young Princes Bolkintaya had brought some work in  gtdmbrvidered velvet\n",
      "bas. Her prety tte upper li on which a diate dark down wa unt percept, was\n",
      "ooshorfr her eth bt it Hilt aH the mor sneth, and was especialy charming when\n",
      "she cciionll drew it down to meet the lower n. Asis alvays th case wth a thoroughly\n",
      "attractive woman, her dfet=-th shortness o her upper l and her mouth-\n",
      "semed to be her.own special and pecular frm of beaut; Everjone brigtenet at the\n",
      "wish oth prety young woman, so soon to become a mother, so flo it and het\n",
      "and carrying her banden so lights, O18 men and dll daniited young ons who locked at\n",
      "her, after bing in he company and talking to her a ltt while, Fas if they too were\n",
      "becoming. ike hr full lit and helt Al who ale to her, and at each word saw her\n",
      "Wright smile and the costant eam o er whit tect thought hat they were in aspecily\n",
      "amiable mood that ay.\n",
      "\n",
      "\"Th ltte princes went round th able with quik, short, swaying teps hr worktag\n",
      "on her nem and gaily spreading out he dros at down on a so earth iber sumo a,\n",
      "asif lt she was ding wa a leasre to hevlf and to all around he, \"I have brought my\n",
      "work,\" aid shin French dplaying her bag and addrcsing ll preso, \"Mind, Annet,\n",
      "o hav not plaela wiced tick on m,\" she added turing t er hstos, \"You\n",
      "wrote thatit was tobe quite a small recpton and ux se how badly I am And\n",
      "she spread out her arms to show her short waite ncetrinmed. dainty gray drew,\n",
      "witha broad ribbon ust blow th breast\n",
      "\n",
      "Ses manque, Lise, you wll always be pretir than anyon ce\" repl Anna\n",
      "Pistons:\n",
      "\n",
      "\"ou know,\" aid th rincs in th ame tone af ice and illi French, tw\n",
      "a genera. \"my husband i dvrting me? He is going t wt Kild. Tl me what\n",
      "thiwretthed wa is for?\" h ddd, addrening Princ Vast and without waiting fran\n",
      "answer she tared o speak to i lange, th beaut! HGR\n",
      "\n",
      "    \n",
      "\n",
      "   \n",
      "\n",
      " \n",
      "\n",
      " \n",
      "\n",
      " \n",
      "\n",
      "   \n",
      "\n",
      " \n",
      "\n",
      " \n",
      "\n",
      " \n",
      "\n",
      " \n",
      "\n",
      " \n",
      "\n",
      "   \n",
      "\n",
      " \n",
      "\n",
      "   \n",
      "\n",
      " \n",
      "\n",
      " \n",
      "\n",
      "  \n",
      "\n",
      "   \n",
      "\n",
      "  \n",
      "\n",
      " \n",
      "\n",
      " \n",
      " \n",
      " \n",
      "\n",
      "Cormrighted taterial\n",
      "\n",
      "\n"
     ]
    },
    {
     "ename": "URLError",
     "evalue": "<urlopen error [WinError 10060] 由于连接方在一段时间后没有正确答复或连接的主机没有反应，连接尝试失败。>",
     "output_type": "error",
     "traceback": [
      "\u001b[1;31m---------------------------------------------------------------------------\u001b[0m",
      "\u001b[1;31mTimeoutError\u001b[0m                              Traceback (most recent call last)",
      "\u001b[1;32mf:\\software\\ana\\envs\\spider\\lib\\urllib\\request.py\u001b[0m in \u001b[0;36mdo_open\u001b[1;34m(self, http_class, req, **http_conn_args)\u001b[0m\n\u001b[0;32m   1317\u001b[0m                 h.request(req.get_method(), req.selector, req.data, headers,\n\u001b[1;32m-> 1318\u001b[1;33m                           encode_chunked=req.has_header('Transfer-encoding'))\n\u001b[0m\u001b[0;32m   1319\u001b[0m             \u001b[1;32mexcept\u001b[0m \u001b[0mOSError\u001b[0m \u001b[1;32mas\u001b[0m \u001b[0merr\u001b[0m\u001b[1;33m:\u001b[0m \u001b[1;31m# timeout error\u001b[0m\u001b[1;33m\u001b[0m\u001b[0m\n",
      "\u001b[1;32mf:\\software\\ana\\envs\\spider\\lib\\http\\client.py\u001b[0m in \u001b[0;36mrequest\u001b[1;34m(self, method, url, body, headers, encode_chunked)\u001b[0m\n\u001b[0;32m   1238\u001b[0m         \u001b[1;34m\"\"\"Send a complete request to the server.\"\"\"\u001b[0m\u001b[1;33m\u001b[0m\u001b[0m\n\u001b[1;32m-> 1239\u001b[1;33m         \u001b[0mself\u001b[0m\u001b[1;33m.\u001b[0m\u001b[0m_send_request\u001b[0m\u001b[1;33m(\u001b[0m\u001b[0mmethod\u001b[0m\u001b[1;33m,\u001b[0m \u001b[0murl\u001b[0m\u001b[1;33m,\u001b[0m \u001b[0mbody\u001b[0m\u001b[1;33m,\u001b[0m \u001b[0mheaders\u001b[0m\u001b[1;33m,\u001b[0m \u001b[0mencode_chunked\u001b[0m\u001b[1;33m)\u001b[0m\u001b[1;33m\u001b[0m\u001b[0m\n\u001b[0m\u001b[0;32m   1240\u001b[0m \u001b[1;33m\u001b[0m\u001b[0m\n",
      "\u001b[1;32mf:\\software\\ana\\envs\\spider\\lib\\http\\client.py\u001b[0m in \u001b[0;36m_send_request\u001b[1;34m(self, method, url, body, headers, encode_chunked)\u001b[0m\n\u001b[0;32m   1284\u001b[0m             \u001b[0mbody\u001b[0m \u001b[1;33m=\u001b[0m \u001b[0m_encode\u001b[0m\u001b[1;33m(\u001b[0m\u001b[0mbody\u001b[0m\u001b[1;33m,\u001b[0m \u001b[1;34m'body'\u001b[0m\u001b[1;33m)\u001b[0m\u001b[1;33m\u001b[0m\u001b[0m\n\u001b[1;32m-> 1285\u001b[1;33m         \u001b[0mself\u001b[0m\u001b[1;33m.\u001b[0m\u001b[0mendheaders\u001b[0m\u001b[1;33m(\u001b[0m\u001b[0mbody\u001b[0m\u001b[1;33m,\u001b[0m \u001b[0mencode_chunked\u001b[0m\u001b[1;33m=\u001b[0m\u001b[0mencode_chunked\u001b[0m\u001b[1;33m)\u001b[0m\u001b[1;33m\u001b[0m\u001b[0m\n\u001b[0m\u001b[0;32m   1286\u001b[0m \u001b[1;33m\u001b[0m\u001b[0m\n",
      "\u001b[1;32mf:\\software\\ana\\envs\\spider\\lib\\http\\client.py\u001b[0m in \u001b[0;36mendheaders\u001b[1;34m(self, message_body, encode_chunked)\u001b[0m\n\u001b[0;32m   1233\u001b[0m             \u001b[1;32mraise\u001b[0m \u001b[0mCannotSendHeader\u001b[0m\u001b[1;33m(\u001b[0m\u001b[1;33m)\u001b[0m\u001b[1;33m\u001b[0m\u001b[0m\n\u001b[1;32m-> 1234\u001b[1;33m         \u001b[0mself\u001b[0m\u001b[1;33m.\u001b[0m\u001b[0m_send_output\u001b[0m\u001b[1;33m(\u001b[0m\u001b[0mmessage_body\u001b[0m\u001b[1;33m,\u001b[0m \u001b[0mencode_chunked\u001b[0m\u001b[1;33m=\u001b[0m\u001b[0mencode_chunked\u001b[0m\u001b[1;33m)\u001b[0m\u001b[1;33m\u001b[0m\u001b[0m\n\u001b[0m\u001b[0;32m   1235\u001b[0m \u001b[1;33m\u001b[0m\u001b[0m\n",
      "\u001b[1;32mf:\\software\\ana\\envs\\spider\\lib\\http\\client.py\u001b[0m in \u001b[0;36m_send_output\u001b[1;34m(self, message_body, encode_chunked)\u001b[0m\n\u001b[0;32m   1025\u001b[0m         \u001b[1;32mdel\u001b[0m \u001b[0mself\u001b[0m\u001b[1;33m.\u001b[0m\u001b[0m_buffer\u001b[0m\u001b[1;33m[\u001b[0m\u001b[1;33m:\u001b[0m\u001b[1;33m]\u001b[0m\u001b[1;33m\u001b[0m\u001b[0m\n\u001b[1;32m-> 1026\u001b[1;33m         \u001b[0mself\u001b[0m\u001b[1;33m.\u001b[0m\u001b[0msend\u001b[0m\u001b[1;33m(\u001b[0m\u001b[0mmsg\u001b[0m\u001b[1;33m)\u001b[0m\u001b[1;33m\u001b[0m\u001b[0m\n\u001b[0m\u001b[0;32m   1027\u001b[0m \u001b[1;33m\u001b[0m\u001b[0m\n",
      "\u001b[1;32mf:\\software\\ana\\envs\\spider\\lib\\http\\client.py\u001b[0m in \u001b[0;36msend\u001b[1;34m(self, data)\u001b[0m\n\u001b[0;32m    963\u001b[0m             \u001b[1;32mif\u001b[0m \u001b[0mself\u001b[0m\u001b[1;33m.\u001b[0m\u001b[0mauto_open\u001b[0m\u001b[1;33m:\u001b[0m\u001b[1;33m\u001b[0m\u001b[0m\n\u001b[1;32m--> 964\u001b[1;33m                 \u001b[0mself\u001b[0m\u001b[1;33m.\u001b[0m\u001b[0mconnect\u001b[0m\u001b[1;33m(\u001b[0m\u001b[1;33m)\u001b[0m\u001b[1;33m\u001b[0m\u001b[0m\n\u001b[0m\u001b[0;32m    965\u001b[0m             \u001b[1;32melse\u001b[0m\u001b[1;33m:\u001b[0m\u001b[1;33m\u001b[0m\u001b[0m\n",
      "\u001b[1;32mf:\\software\\ana\\envs\\spider\\lib\\http\\client.py\u001b[0m in \u001b[0;36mconnect\u001b[1;34m(self)\u001b[0m\n\u001b[0;32m   1399\u001b[0m             self.sock = self._context.wrap_socket(self.sock,\n\u001b[1;32m-> 1400\u001b[1;33m                                                   server_hostname=server_hostname)\n\u001b[0m\u001b[0;32m   1401\u001b[0m             \u001b[1;32mif\u001b[0m \u001b[1;32mnot\u001b[0m \u001b[0mself\u001b[0m\u001b[1;33m.\u001b[0m\u001b[0m_context\u001b[0m\u001b[1;33m.\u001b[0m\u001b[0mcheck_hostname\u001b[0m \u001b[1;32mand\u001b[0m \u001b[0mself\u001b[0m\u001b[1;33m.\u001b[0m\u001b[0m_check_hostname\u001b[0m\u001b[1;33m:\u001b[0m\u001b[1;33m\u001b[0m\u001b[0m\n",
      "\u001b[1;32mf:\\software\\ana\\envs\\spider\\lib\\ssl.py\u001b[0m in \u001b[0;36mwrap_socket\u001b[1;34m(self, sock, server_side, do_handshake_on_connect, suppress_ragged_eofs, server_hostname, session)\u001b[0m\n\u001b[0;32m    406\u001b[0m                          \u001b[0mserver_hostname\u001b[0m\u001b[1;33m=\u001b[0m\u001b[0mserver_hostname\u001b[0m\u001b[1;33m,\u001b[0m\u001b[1;33m\u001b[0m\u001b[0m\n\u001b[1;32m--> 407\u001b[1;33m                          _context=self, _session=session)\n\u001b[0m\u001b[0;32m    408\u001b[0m \u001b[1;33m\u001b[0m\u001b[0m\n",
      "\u001b[1;32mf:\\software\\ana\\envs\\spider\\lib\\ssl.py\u001b[0m in \u001b[0;36m__init__\u001b[1;34m(self, sock, keyfile, certfile, server_side, cert_reqs, ssl_version, ca_certs, do_handshake_on_connect, family, type, proto, fileno, suppress_ragged_eofs, npn_protocols, ciphers, server_hostname, _context, _session)\u001b[0m\n\u001b[0;32m    813\u001b[0m                         \u001b[1;32mraise\u001b[0m \u001b[0mValueError\u001b[0m\u001b[1;33m(\u001b[0m\u001b[1;34m\"do_handshake_on_connect should not be specified for non-blocking sockets\"\u001b[0m\u001b[1;33m)\u001b[0m\u001b[1;33m\u001b[0m\u001b[0m\n\u001b[1;32m--> 814\u001b[1;33m                     \u001b[0mself\u001b[0m\u001b[1;33m.\u001b[0m\u001b[0mdo_handshake\u001b[0m\u001b[1;33m(\u001b[0m\u001b[1;33m)\u001b[0m\u001b[1;33m\u001b[0m\u001b[0m\n\u001b[0m\u001b[0;32m    815\u001b[0m \u001b[1;33m\u001b[0m\u001b[0m\n",
      "\u001b[1;32mf:\\software\\ana\\envs\\spider\\lib\\ssl.py\u001b[0m in \u001b[0;36mdo_handshake\u001b[1;34m(self, block)\u001b[0m\n\u001b[0;32m   1067\u001b[0m                 \u001b[0mself\u001b[0m\u001b[1;33m.\u001b[0m\u001b[0msettimeout\u001b[0m\u001b[1;33m(\u001b[0m\u001b[1;32mNone\u001b[0m\u001b[1;33m)\u001b[0m\u001b[1;33m\u001b[0m\u001b[0m\n\u001b[1;32m-> 1068\u001b[1;33m             \u001b[0mself\u001b[0m\u001b[1;33m.\u001b[0m\u001b[0m_sslobj\u001b[0m\u001b[1;33m.\u001b[0m\u001b[0mdo_handshake\u001b[0m\u001b[1;33m(\u001b[0m\u001b[1;33m)\u001b[0m\u001b[1;33m\u001b[0m\u001b[0m\n\u001b[0m\u001b[0;32m   1069\u001b[0m         \u001b[1;32mfinally\u001b[0m\u001b[1;33m:\u001b[0m\u001b[1;33m\u001b[0m\u001b[0m\n",
      "\u001b[1;32mf:\\software\\ana\\envs\\spider\\lib\\ssl.py\u001b[0m in \u001b[0;36mdo_handshake\u001b[1;34m(self)\u001b[0m\n\u001b[0;32m    688\u001b[0m         \u001b[1;34m\"\"\"Start the SSL/TLS handshake.\"\"\"\u001b[0m\u001b[1;33m\u001b[0m\u001b[0m\n\u001b[1;32m--> 689\u001b[1;33m         \u001b[0mself\u001b[0m\u001b[1;33m.\u001b[0m\u001b[0m_sslobj\u001b[0m\u001b[1;33m.\u001b[0m\u001b[0mdo_handshake\u001b[0m\u001b[1;33m(\u001b[0m\u001b[1;33m)\u001b[0m\u001b[1;33m\u001b[0m\u001b[0m\n\u001b[0m\u001b[0;32m    690\u001b[0m         \u001b[1;32mif\u001b[0m \u001b[0mself\u001b[0m\u001b[1;33m.\u001b[0m\u001b[0mcontext\u001b[0m\u001b[1;33m.\u001b[0m\u001b[0mcheck_hostname\u001b[0m\u001b[1;33m:\u001b[0m\u001b[1;33m\u001b[0m\u001b[0m\n",
      "\u001b[1;31mTimeoutError\u001b[0m: [WinError 10060] 由于连接方在一段时间后没有正确答复或连接的主机没有反应，连接尝试失败。",
      "\nDuring handling of the above exception, another exception occurred:\n",
      "\u001b[1;31mURLError\u001b[0m                                  Traceback (most recent call last)",
      "\u001b[1;32m<ipython-input-5-43b4cf22909f>\u001b[0m in \u001b[0;36m<module>\u001b[1;34m\u001b[0m\n\u001b[0;32m     36\u001b[0m \u001b[1;31m# 用Tesseract处理我们收集的图片URL链接\u001b[0m\u001b[1;33m\u001b[0m\u001b[1;33m\u001b[0m\u001b[0m\n\u001b[0;32m     37\u001b[0m \u001b[1;32mfor\u001b[0m \u001b[0mimage\u001b[0m \u001b[1;32min\u001b[0m \u001b[0msorted\u001b[0m\u001b[1;33m(\u001b[0m\u001b[0mimageList\u001b[0m\u001b[1;33m)\u001b[0m\u001b[1;33m:\u001b[0m\u001b[1;33m\u001b[0m\u001b[0m\n\u001b[1;32m---> 38\u001b[1;33m     \u001b[0murlretrieve\u001b[0m\u001b[1;33m(\u001b[0m\u001b[0mimage\u001b[0m\u001b[1;33m,\u001b[0m \u001b[1;34m\"page.jpg\"\u001b[0m\u001b[1;33m)\u001b[0m\u001b[1;33m\u001b[0m\u001b[0m\n\u001b[0m\u001b[0;32m     39\u001b[0m     p = subprocess.Popen([r\"F:\\software\\Tesseract-OCR\\tesseract.exe\", \"page.jpg\", \"page\"],\n\u001b[0;32m     40\u001b[0m     stdout=subprocess.PIPE,stderr=subprocess.PIPE)\n",
      "\u001b[1;32mf:\\software\\ana\\envs\\spider\\lib\\urllib\\request.py\u001b[0m in \u001b[0;36murlretrieve\u001b[1;34m(url, filename, reporthook, data)\u001b[0m\n\u001b[0;32m    246\u001b[0m     \u001b[0murl_type\u001b[0m\u001b[1;33m,\u001b[0m \u001b[0mpath\u001b[0m \u001b[1;33m=\u001b[0m \u001b[0msplittype\u001b[0m\u001b[1;33m(\u001b[0m\u001b[0murl\u001b[0m\u001b[1;33m)\u001b[0m\u001b[1;33m\u001b[0m\u001b[0m\n\u001b[0;32m    247\u001b[0m \u001b[1;33m\u001b[0m\u001b[0m\n\u001b[1;32m--> 248\u001b[1;33m     \u001b[1;32mwith\u001b[0m \u001b[0mcontextlib\u001b[0m\u001b[1;33m.\u001b[0m\u001b[0mclosing\u001b[0m\u001b[1;33m(\u001b[0m\u001b[0murlopen\u001b[0m\u001b[1;33m(\u001b[0m\u001b[0murl\u001b[0m\u001b[1;33m,\u001b[0m \u001b[0mdata\u001b[0m\u001b[1;33m)\u001b[0m\u001b[1;33m)\u001b[0m \u001b[1;32mas\u001b[0m \u001b[0mfp\u001b[0m\u001b[1;33m:\u001b[0m\u001b[1;33m\u001b[0m\u001b[0m\n\u001b[0m\u001b[0;32m    249\u001b[0m         \u001b[0mheaders\u001b[0m \u001b[1;33m=\u001b[0m \u001b[0mfp\u001b[0m\u001b[1;33m.\u001b[0m\u001b[0minfo\u001b[0m\u001b[1;33m(\u001b[0m\u001b[1;33m)\u001b[0m\u001b[1;33m\u001b[0m\u001b[0m\n\u001b[0;32m    250\u001b[0m \u001b[1;33m\u001b[0m\u001b[0m\n",
      "\u001b[1;32mf:\\software\\ana\\envs\\spider\\lib\\urllib\\request.py\u001b[0m in \u001b[0;36murlopen\u001b[1;34m(url, data, timeout, cafile, capath, cadefault, context)\u001b[0m\n\u001b[0;32m    221\u001b[0m     \u001b[1;32melse\u001b[0m\u001b[1;33m:\u001b[0m\u001b[1;33m\u001b[0m\u001b[0m\n\u001b[0;32m    222\u001b[0m         \u001b[0mopener\u001b[0m \u001b[1;33m=\u001b[0m \u001b[0m_opener\u001b[0m\u001b[1;33m\u001b[0m\u001b[0m\n\u001b[1;32m--> 223\u001b[1;33m     \u001b[1;32mreturn\u001b[0m \u001b[0mopener\u001b[0m\u001b[1;33m.\u001b[0m\u001b[0mopen\u001b[0m\u001b[1;33m(\u001b[0m\u001b[0murl\u001b[0m\u001b[1;33m,\u001b[0m \u001b[0mdata\u001b[0m\u001b[1;33m,\u001b[0m \u001b[0mtimeout\u001b[0m\u001b[1;33m)\u001b[0m\u001b[1;33m\u001b[0m\u001b[0m\n\u001b[0m\u001b[0;32m    224\u001b[0m \u001b[1;33m\u001b[0m\u001b[0m\n\u001b[0;32m    225\u001b[0m \u001b[1;32mdef\u001b[0m \u001b[0minstall_opener\u001b[0m\u001b[1;33m(\u001b[0m\u001b[0mopener\u001b[0m\u001b[1;33m)\u001b[0m\u001b[1;33m:\u001b[0m\u001b[1;33m\u001b[0m\u001b[0m\n",
      "\u001b[1;32mf:\\software\\ana\\envs\\spider\\lib\\urllib\\request.py\u001b[0m in \u001b[0;36mopen\u001b[1;34m(self, fullurl, data, timeout)\u001b[0m\n\u001b[0;32m    524\u001b[0m             \u001b[0mreq\u001b[0m \u001b[1;33m=\u001b[0m \u001b[0mmeth\u001b[0m\u001b[1;33m(\u001b[0m\u001b[0mreq\u001b[0m\u001b[1;33m)\u001b[0m\u001b[1;33m\u001b[0m\u001b[0m\n\u001b[0;32m    525\u001b[0m \u001b[1;33m\u001b[0m\u001b[0m\n\u001b[1;32m--> 526\u001b[1;33m         \u001b[0mresponse\u001b[0m \u001b[1;33m=\u001b[0m \u001b[0mself\u001b[0m\u001b[1;33m.\u001b[0m\u001b[0m_open\u001b[0m\u001b[1;33m(\u001b[0m\u001b[0mreq\u001b[0m\u001b[1;33m,\u001b[0m \u001b[0mdata\u001b[0m\u001b[1;33m)\u001b[0m\u001b[1;33m\u001b[0m\u001b[0m\n\u001b[0m\u001b[0;32m    527\u001b[0m \u001b[1;33m\u001b[0m\u001b[0m\n\u001b[0;32m    528\u001b[0m         \u001b[1;31m# post-process response\u001b[0m\u001b[1;33m\u001b[0m\u001b[1;33m\u001b[0m\u001b[0m\n",
      "\u001b[1;32mf:\\software\\ana\\envs\\spider\\lib\\urllib\\request.py\u001b[0m in \u001b[0;36m_open\u001b[1;34m(self, req, data)\u001b[0m\n\u001b[0;32m    542\u001b[0m         \u001b[0mprotocol\u001b[0m \u001b[1;33m=\u001b[0m \u001b[0mreq\u001b[0m\u001b[1;33m.\u001b[0m\u001b[0mtype\u001b[0m\u001b[1;33m\u001b[0m\u001b[0m\n\u001b[0;32m    543\u001b[0m         result = self._call_chain(self.handle_open, protocol, protocol +\n\u001b[1;32m--> 544\u001b[1;33m                                   '_open', req)\n\u001b[0m\u001b[0;32m    545\u001b[0m         \u001b[1;32mif\u001b[0m \u001b[0mresult\u001b[0m\u001b[1;33m:\u001b[0m\u001b[1;33m\u001b[0m\u001b[0m\n\u001b[0;32m    546\u001b[0m             \u001b[1;32mreturn\u001b[0m \u001b[0mresult\u001b[0m\u001b[1;33m\u001b[0m\u001b[0m\n",
      "\u001b[1;32mf:\\software\\ana\\envs\\spider\\lib\\urllib\\request.py\u001b[0m in \u001b[0;36m_call_chain\u001b[1;34m(self, chain, kind, meth_name, *args)\u001b[0m\n\u001b[0;32m    502\u001b[0m         \u001b[1;32mfor\u001b[0m \u001b[0mhandler\u001b[0m \u001b[1;32min\u001b[0m \u001b[0mhandlers\u001b[0m\u001b[1;33m:\u001b[0m\u001b[1;33m\u001b[0m\u001b[0m\n\u001b[0;32m    503\u001b[0m             \u001b[0mfunc\u001b[0m \u001b[1;33m=\u001b[0m \u001b[0mgetattr\u001b[0m\u001b[1;33m(\u001b[0m\u001b[0mhandler\u001b[0m\u001b[1;33m,\u001b[0m \u001b[0mmeth_name\u001b[0m\u001b[1;33m)\u001b[0m\u001b[1;33m\u001b[0m\u001b[0m\n\u001b[1;32m--> 504\u001b[1;33m             \u001b[0mresult\u001b[0m \u001b[1;33m=\u001b[0m \u001b[0mfunc\u001b[0m\u001b[1;33m(\u001b[0m\u001b[1;33m*\u001b[0m\u001b[0margs\u001b[0m\u001b[1;33m)\u001b[0m\u001b[1;33m\u001b[0m\u001b[0m\n\u001b[0m\u001b[0;32m    505\u001b[0m             \u001b[1;32mif\u001b[0m \u001b[0mresult\u001b[0m \u001b[1;32mis\u001b[0m \u001b[1;32mnot\u001b[0m \u001b[1;32mNone\u001b[0m\u001b[1;33m:\u001b[0m\u001b[1;33m\u001b[0m\u001b[0m\n\u001b[0;32m    506\u001b[0m                 \u001b[1;32mreturn\u001b[0m \u001b[0mresult\u001b[0m\u001b[1;33m\u001b[0m\u001b[0m\n",
      "\u001b[1;32mf:\\software\\ana\\envs\\spider\\lib\\urllib\\request.py\u001b[0m in \u001b[0;36mhttps_open\u001b[1;34m(self, req)\u001b[0m\n\u001b[0;32m   1359\u001b[0m         \u001b[1;32mdef\u001b[0m \u001b[0mhttps_open\u001b[0m\u001b[1;33m(\u001b[0m\u001b[0mself\u001b[0m\u001b[1;33m,\u001b[0m \u001b[0mreq\u001b[0m\u001b[1;33m)\u001b[0m\u001b[1;33m:\u001b[0m\u001b[1;33m\u001b[0m\u001b[0m\n\u001b[0;32m   1360\u001b[0m             return self.do_open(http.client.HTTPSConnection, req,\n\u001b[1;32m-> 1361\u001b[1;33m                 context=self._context, check_hostname=self._check_hostname)\n\u001b[0m\u001b[0;32m   1362\u001b[0m \u001b[1;33m\u001b[0m\u001b[0m\n\u001b[0;32m   1363\u001b[0m         \u001b[0mhttps_request\u001b[0m \u001b[1;33m=\u001b[0m \u001b[0mAbstractHTTPHandler\u001b[0m\u001b[1;33m.\u001b[0m\u001b[0mdo_request_\u001b[0m\u001b[1;33m\u001b[0m\u001b[0m\n",
      "\u001b[1;32mf:\\software\\ana\\envs\\spider\\lib\\urllib\\request.py\u001b[0m in \u001b[0;36mdo_open\u001b[1;34m(self, http_class, req, **http_conn_args)\u001b[0m\n\u001b[0;32m   1318\u001b[0m                           encode_chunked=req.has_header('Transfer-encoding'))\n\u001b[0;32m   1319\u001b[0m             \u001b[1;32mexcept\u001b[0m \u001b[0mOSError\u001b[0m \u001b[1;32mas\u001b[0m \u001b[0merr\u001b[0m\u001b[1;33m:\u001b[0m \u001b[1;31m# timeout error\u001b[0m\u001b[1;33m\u001b[0m\u001b[0m\n\u001b[1;32m-> 1320\u001b[1;33m                 \u001b[1;32mraise\u001b[0m \u001b[0mURLError\u001b[0m\u001b[1;33m(\u001b[0m\u001b[0merr\u001b[0m\u001b[1;33m)\u001b[0m\u001b[1;33m\u001b[0m\u001b[0m\n\u001b[0m\u001b[0;32m   1321\u001b[0m             \u001b[0mr\u001b[0m \u001b[1;33m=\u001b[0m \u001b[0mh\u001b[0m\u001b[1;33m.\u001b[0m\u001b[0mgetresponse\u001b[0m\u001b[1;33m(\u001b[0m\u001b[1;33m)\u001b[0m\u001b[1;33m\u001b[0m\u001b[0m\n\u001b[0;32m   1322\u001b[0m         \u001b[1;32mexcept\u001b[0m\u001b[1;33m:\u001b[0m\u001b[1;33m\u001b[0m\u001b[0m\n",
      "\u001b[1;31mURLError\u001b[0m: <urlopen error [WinError 10060] 由于连接方在一段时间后没有正确答复或连接的主机没有反应，连接尝试失败。>"
     ]
    }
   ],
   "source": [
    "import time\n",
    "from urllib.request import urlretrieve\n",
    "import subprocess\n",
    "from bs4 import BeautifulSoup\n",
    "from selenium import webdriver\n",
    "# 创建新的Selenium driver\n",
    "driver = webdriver.PhantomJS(executable_path=r'F:\\software\\phantomjs\\phantomjs-2.1.1-windows\\bin\\phantomjs.exe')\n",
    "# 有时我发现PhantomJS查找元素有问题,但是Firefox没有。\n",
    "# 如果你运行程序的时候出现问题，去掉下面这行注释，\n",
    "# 用Selenium试试Firefox浏览器：\n",
    "# driver = webdriver.Firefox()\n",
    "driver.get(\"http://www.amazon.com/War-Peace-Leo-Nikolayevich-Tolstoy/dp/1427030200\")\n",
    "time.sleep(2)\n",
    "\n",
    "# 单击图书预览按钮\n",
    "driver.find_element_by_id(\"sitbLogoImg\").click()\n",
    "imageList = set()\n",
    "\n",
    "# 等待页面加载完成\n",
    "time.sleep(5)\n",
    "# 当向右箭头可以点击时，开始翻页\n",
    "while \"pointer\" in driver.find_element_by_id(\"sitbReaderRightPageTurner\").get_attribute(\"style\"):   \n",
    "#     bsObj = BeautifulSoup(driver.page_source)\n",
    "#     print(driver.find_element_by_id(\"sitbReaderRightPageTurner\").text)\n",
    "    driver.set_window_size(1920, 1080)\n",
    "    driver.find_element_by_id(\"sitbReaderRightPageTurner\").click()\n",
    "    time.sleep(2)\n",
    "    # 获取已加载的新页面（一次可以加载多个页面，但是重复的页面不能加载到集合中）\n",
    "    pages = driver.find_elements_by_xpath(\"//div[@class='pageImage']/div/img\")\n",
    "    for page in pages:\n",
    "        image = page.get_attribute(\"src\")\n",
    "        imageList.add(image)\n",
    "        \n",
    "driver.quit()\n",
    "\n",
    "# 用Tesseract处理我们收集的图片URL链接\n",
    "for image in sorted(imageList):\n",
    "    urlretrieve(image, \"page.jpg\")\n",
    "    p = subprocess.Popen([r\"F:\\software\\Tesseract-OCR\\tesseract.exe\", \"page.jpg\", \"page\"],\n",
    "    stdout=subprocess.PIPE,stderr=subprocess.PIPE)\n",
    "    p.wait()\n",
    "    f = open(\"page.txt\", \"r\")\n",
    "    print(f.read())"
   ]
  },
  {
   "cell_type": "code",
   "execution_count": 4,
   "metadata": {},
   "outputs": [],
   "source": [
    "#tesseract训练来识别字符"
   ]
  },
  {
   "cell_type": "code",
   "execution_count": 6,
   "metadata": {},
   "outputs": [
    {
     "name": "stdout",
     "output_type": "stream",
     "text": [
      "Captcha solution attempt: SvTEp\n",
      "\n",
      "Error message\n",
      "The answer you entered for the CAPTCHA was not correct.\n"
     ]
    }
   ],
   "source": [
    "from urllib.request import urlretrieve\n",
    "from urllib.request import urlopen\n",
    "from bs4 import BeautifulSoup\n",
    "import subprocess\n",
    "import requests\n",
    "import pytesseract\n",
    "from PIL import Image\n",
    "from PIL import ImageOps\n",
    "def cleanImage(imagePath):\n",
    "    image = Image.open(imagePath)\n",
    "    image = image.point(lambda x: 0 if x<143 else 255)\n",
    "    borderImage = ImageOps.expand(image, border=20, fill='white')\n",
    "    borderImage.save(imagePath)\n",
    "    \n",
    "html = urlopen(\"http://www.pythonscraping.com/humans-only\")\n",
    "bsObj = BeautifulSoup(html)\n",
    "# 收集需要处理的表单数据（包括验证码和输入字段）\n",
    "imageLocation = bsObj.find(\"img\", {\"title\": \"Image CAPTCHA\"})[\"src\"]\n",
    "formBuildId = bsObj.find(\"input\", {\"name\":\"form_build_id\"})[\"value\"]\n",
    "captchaSid = bsObj.find(\"input\", {\"name\":\"captcha_sid\"})[\"value\"]\n",
    "captchaToken = bsObj.find(\"input\", {\"name\":\"captcha_token\"})[\"value\"]\n",
    "captchaUrl = \"http://pythonscraping.com\"+imageLocation\n",
    "urlretrieve(captchaUrl, \"captcha.jpg\")\n",
    "cleanImage(\"captcha.jpg\")\n",
    "#p = subprocess.Popen([\"tesseract\", \"captcha.jpg\", \"captcha\"],stdout=subprocess.PIPE,stderr=subprocess.PIPE)\n",
    "#p.wait()\n",
    "# 调用系统的tesseract命令对图片进行OCR识别\n",
    "pytesseract.pytesseract.tesseract_cmd = r'F:\\software\\Tesseract-OCR\\tesseract.exe'\n",
    "img = Image.open('captcha.jpg') \n",
    "#subprocess.call([\"tesseract\", \"captcha.jpg\", \"captcha\"])\n",
    "# 打开文件读取结果\n",
    "#outputFile = open(\"output.txt\", 'r')\n",
    "f = pytesseract.image_to_string(img)\n",
    "\n",
    "#f = open(\"captcha.txt\", \"r\")\n",
    "# 清理识别结果中的空格和换行符\n",
    "captchaResponse = f.replace(\" \", \"\").replace(\"\\n\", \"\")\n",
    "print(\"Captcha solution attempt: \"+captchaResponse)\n",
    "if len(captchaResponse) == 5:\n",
    "    params = {\"captcha_token\":captchaToken, \"captcha_sid\":captchaSid,\n",
    "              \"form_id\":\"comment_node_page_form\", \"form_build_id\": formBuildId,\n",
    "              \"captcha_response\":captchaResponse, \"name\":\"Ryan Mitchell\",\n",
    "              \"subject\": \"I come to seek the Grail\",\n",
    "              \"comment_body[und][0][value]\":\"...and I am definitely not a bot\"}\n",
    "    r = requests.post(\"http://www.pythonscraping.com/comment/reply/10\",data=params)\n",
    "    responseObj = BeautifulSoup(r.text)\n",
    "    if responseObj.find(\"div\", {\"class\":\"messages\"}) is not None:\n",
    "        print(responseObj.find(\"div\", {\"class\":\"messages\"}).get_text())\n",
    "else:\n",
    "    print(\"There was a problem reading the CAPTCHA correctly!\")\n",
    "    \n",
    "#这里tesseract没有经过训练，效果差也是在所难免"
   ]
  },
  {
   "cell_type": "code",
   "execution_count": 6,
   "metadata": {},
   "outputs": [
    {
     "name": "stdout",
     "output_type": "stream",
     "text": [
      "<bound method Tag.get_text of <table class=\"table table-striped\">\n",
      "<tr>\n",
      "<th>ACCEPT</th>\n",
      "<td>text/html,application/xhtml+xml,application/xml;q=0.9,image/webp,*/*;q=0.8</td>\n",
      "</tr>\n",
      "<tr>\n",
      "<th>ACCEPT-ENCODING</th>\n",
      "<td>gzip, deflate</td>\n",
      "</tr>\n",
      "<tr>\n",
      "<th>CONNECTION</th>\n",
      "<td>keep-alive</td>\n",
      "</tr>\n",
      "<tr>\n",
      "<th>HOST</th>\n",
      "<td>www.whatismybrowser.com</td>\n",
      "</tr>\n",
      "<tr>\n",
      "<th>USER-AGENT</th>\n",
      "<td>Mozilla/5.0 (Macintosh; Intel Mac OS X 10_9_5)AppleWebKit 537.36 (KHTML, like Gecko) Chrome</td>\n",
      "</tr>\n",
      "</table>>\n"
     ]
    }
   ],
   "source": [
    "\"\"\"\n",
    "第十二章:避开采集陷阱\n",
    "\"\"\"\n",
    "#无论你在做什么项目，一定要记得把 User-Agent 属性设置成不容易引起怀疑的内容，不要用 Python-urllib/3.4。\n",
    "import requests\n",
    "from bs4 import BeautifulSoup\n",
    "session = requests.Session()\n",
    "headers = {\"User-Agent\":\"Mozilla/5.0 (Macintosh; Intel Mac OS X 10_9_5)AppleWebKit 537.36 (KHTML, like Gecko) Chrome\",\n",
    "           \"Accept\":\"text/html,application/xhtml+xml,application/xml;q=0.9,image/webp,*/*;q=0.8\"}\n",
    "url = \"https://www.whatismybrowser.com/developers/what-http-headers-is-my-browser-sending\"\n",
    "req = session.get(url, headers=headers)\n",
    "bsObj = BeautifulSoup(req.text)\n",
    "print(bsObj.find(\"table\",{\"class\":\"table-striped\"}).get_text)"
   ]
  },
  {
   "cell_type": "code",
   "execution_count": 7,
   "metadata": {},
   "outputs": [
    {
     "name": "stderr",
     "output_type": "stream",
     "text": [
      "f:\\software\\ana\\envs\\spider\\lib\\site-packages\\selenium\\webdriver\\phantomjs\\webdriver.py:49: UserWarning: Selenium support for PhantomJS has been deprecated, please use headless versions of Chrome or Firefox instead\n",
      "  warnings.warn('Selenium support for PhantomJS has been deprecated, please use headless '\n"
     ]
    },
    {
     "name": "stdout",
     "output_type": "stream",
     "text": [
      "[{'domain': '.pythonscraping.com', 'expires': '周一, 31 8月 2020 07:49:31 GMT', 'expiry': 1598860171, 'httponly': False, 'name': '_gat', 'path': '/', 'secure': False, 'value': '1'}, {'domain': '.pythonscraping.com', 'expires': '周二, 01 9月 2020 07:48:31 GMT', 'expiry': 1598946511, 'httponly': False, 'name': '_gid', 'path': '/', 'secure': False, 'value': 'GA1.2.1772587848.1598860112'}, {'domain': '.pythonscraping.com', 'expires': '周三, 31 8月 2022 07:48:31 GMT', 'expiry': 1661932111, 'httponly': False, 'name': '_ga', 'path': '/', 'secure': False, 'value': 'GA1.2.1184221018.1598860112'}, {'domain': 'pythonscraping.com', 'httponly': False, 'name': 'has_js', 'path': '/', 'secure': False, 'value': '1'}]\n"
     ]
    }
   ],
   "source": [
    "from selenium import webdriver\n",
    "driver = webdriver.PhantomJS(executable_path=r'F:\\software\\phantomjs\\phantomjs-2.1.1-windows\\bin\\phantomjs.exe')\n",
    "driver.get(\"http://pythonscraping.com\")\n",
    "driver.implicitly_wait(1)\n",
    "print(driver.get_cookies())"
   ]
  },
  {
   "cell_type": "code",
   "execution_count": 8,
   "metadata": {},
   "outputs": [
    {
     "data": {
      "text/plain": [
       "'\\n用隐含字段阻止网络数据采集的方式主要有两种。第一种是表单页面上的一个字段可以用\\n服务器生成的随机变量表示。如果提交时这个值不在表单处理页面上，服务器就有理由认\\n为这个提交不是从原始表单页面上提交的，而是由一个网络机器人直接提交到表单处理页\\n面的。绕开这个问题的最佳方法就是，首先采集表单所在页面上生成的随机变量，然后再\\n提交到表单处理页面。\\n第二种方式是“蜜罐”（honey pot）。如果表单里包含一个具有普通名称的隐含字段（设置\\n蜜罐圈套），比如“用户名”（username）或“邮箱地址”（email address），设计不太好的网\\n络机器人往往不管这个字段是不是对用户可见，直接填写这个字段并向服务器提交，这样\\n就会中服务器的蜜罐圈套。服务器会把所有隐含字段的真实值（或者与表单提交页面的默\\n认值不同的值）都忽略，而且填写隐含字段的访问用户也可能被网站封杀。\\n总之，有时检查表单所在的页面十分必要，看看有没有遗漏或弄错一些服务器预先设定好\\n的隐含字段（蜜罐圈套）。如果你看到一些隐含字段，通常带有较大的随机字符串变量，\\n那么很可能网络服务器会在表单提交的时候检查它们。另外，还有其他一些检查，用来保\\n证这些当前生成的表单变量只被使用一次或是最近生成的（这样可以避免变量被简单地存\\n储到一个程序中反复使用）。\\n'"
      ]
     },
     "execution_count": 8,
     "metadata": {},
     "output_type": "execute_result"
    }
   ],
   "source": [
    "\"\"\"\n",
    "用隐含字段阻止网络数据采集的方式主要有两种。第一种是表单页面上的一个字段可以用\n",
    "服务器生成的随机变量表示。如果提交时这个值不在表单处理页面上，服务器就有理由认\n",
    "为这个提交不是从原始表单页面上提交的，而是由一个网络机器人直接提交到表单处理页\n",
    "面的。绕开这个问题的最佳方法就是，首先采集表单所在页面上生成的随机变量，然后再\n",
    "提交到表单处理页面。\n",
    "第二种方式是“蜜罐”（honey pot）。如果表单里包含一个具有普通名称的隐含字段（设置\n",
    "蜜罐圈套），比如“用户名”（username）或“邮箱地址”（email address），设计不太好的网\n",
    "络机器人往往不管这个字段是不是对用户可见，直接填写这个字段并向服务器提交，这样\n",
    "就会中服务器的蜜罐圈套。服务器会把所有隐含字段的真实值（或者与表单提交页面的默\n",
    "认值不同的值）都忽略，而且填写隐含字段的访问用户也可能被网站封杀。\n",
    "总之，有时检查表单所在的页面十分必要，看看有没有遗漏或弄错一些服务器预先设定好\n",
    "的隐含字段（蜜罐圈套）。如果你看到一些隐含字段，通常带有较大的随机字符串变量，\n",
    "那么很可能网络服务器会在表单提交的时候检查它们。另外，还有其他一些检查，用来保\n",
    "证这些当前生成的表单变量只被使用一次或是最近生成的（这样可以避免变量被简单地存\n",
    "储到一个程序中反复使用）。\n",
    "\"\"\"\n",
    "#Selenium 可以获取访问页面的内容，所以它可以区分页面上的可见元素与隐含元素。通过 is_displayed() 可以判断元素在页面上是否可见。"
   ]
  },
  {
   "cell_type": "code",
   "execution_count": 10,
   "metadata": {},
   "outputs": [
    {
     "name": "stdout",
     "output_type": "stream",
     "text": [
      "The link http://pythonscraping.com/dontgohere is a trap\n",
      "Do not change value of phone\n",
      "Do not change value of email\n"
     ]
    }
   ],
   "source": [
    "from selenium import webdriver\n",
    "from selenium.webdriver.remote.webelement import WebElement\n",
    "driver = webdriver.PhantomJS(executable_path=r'F:\\software\\phantomjs\\phantomjs-2.1.1-windows\\bin\\phantomjs.exe')\n",
    "driver.get(\"http://pythonscraping.com/pages/itsatrap.html\")\n",
    "links = driver.find_elements_by_tag_name(\"a\")\n",
    "for link in links:\n",
    "    if not link.is_displayed():\n",
    "        print(\"The link \"+link.get_attribute(\"href\")+\" is a trap\")\n",
    "fields = driver.find_elements_by_tag_name(\"input\")\n",
    "for field in fields:\n",
    "    if not field.is_displayed():\n",
    "        print(\"Do not change value of \"+field.get_attribute(\"name\"))\n"
   ]
  },
  {
   "cell_type": "code",
   "execution_count": 11,
   "metadata": {},
   "outputs": [
    {
     "data": {
      "text/plain": [
       "'\\n• 首先，如果你从网络服务器收到的页面是空白的，缺少信息，或其遇到他不符合你预期\\n的情况（或者不是你在浏览器上看到的内容），有可能是因为网站创建页面的 JavaScript\\n执行有问题。可以看看第 10 章内容。\\n• 如果你准备向网站提交表单或发出 POST 请求，记得检查一下页面的内容，看看你想提\\n交的每个字段是不是都已经填好，而且格式也正确。用 Chrome 浏览器的网络面板（快\\n捷键 F12 打开开发者控制台，然后点击“Network”即可看到）查看发送到网站的 POST\\n命令，确认你的每个参数都是正确的。\\n• 如果你已经登录网站却不能保持登录状态，或者网站上出现了其他的“登录状态”异常，\\n请检查你的 cookie。确认在加载每个页面时 cookie 都被正确调用，而且你的 cookie 在\\n每次发起请求时都发送到了网站上。\\n• 如果你在客户端遇到了 HTTP 错误，尤其是 403 禁止访问错误，这可能说明网站已经把\\n你的 IP 当作机器人了，不再接受你的任何请求。你要么等待你的 IP 地址从网站黑名单\\n里移除，要么就换个 IP 地址（可以去星巴克上网，或者看看第 14 章的内容）。如果你\\n确定自己并没有被封杀，那么再检查下面的内容。\\n♦ 确认你的爬虫在网站上的速度不是特别快。快速采集是一种恶习，会对网管的服务\\n器造成沉重的负担，还会让你陷入违法境地，也是 IP 被网站列入黑名单的首要原因。\\n给你的爬虫增加延迟，让它们在夜深人静的时候运行。切记：匆匆忙忙写程序或收\\n集数据都是拙劣项目管理的表现；应该提前做好计划，避免临阵慌乱。\\n♦ 还有一件必须做的事情：修改你的请求头！有些网站会封杀任何声称自己是爬虫的\\n访问者。如果你不确定请求头的值怎样才算合适，就用你自己浏览器的请求头吧。\\n♦ 确认你没有点击或访问任何人类用户通常不能点击或接入的信息（更多信息请查阅\\n12.3.2 节）。\\n♦ 如果你用了一大堆复杂的手段才接入网站，考虑联系一下网管吧，告诉他们你的目的。\\n试试发邮件到 webmaster@< 域名 > 或 admin@< 域名 >，请求网管允许你使用爬虫采\\n集数据。管理员也是人嘛！\\n'"
      ]
     },
     "execution_count": 11,
     "metadata": {},
     "output_type": "execute_result"
    }
   ],
   "source": [
    "\"\"\"\n",
    "• 首先，如果你从网络服务器收到的页面是空白的，缺少信息，或其遇到他不符合你预期\n",
    "的情况（或者不是你在浏览器上看到的内容），有可能是因为网站创建页面的 JavaScript\n",
    "执行有问题。可以看看第 10 章内容。\n",
    "• 如果你准备向网站提交表单或发出 POST 请求，记得检查一下页面的内容，看看你想提\n",
    "交的每个字段是不是都已经填好，而且格式也正确。用 Chrome 浏览器的网络面板（快\n",
    "捷键 F12 打开开发者控制台，然后点击“Network”即可看到）查看发送到网站的 POST\n",
    "命令，确认你的每个参数都是正确的。\n",
    "• 如果你已经登录网站却不能保持登录状态，或者网站上出现了其他的“登录状态”异常，\n",
    "请检查你的 cookie。确认在加载每个页面时 cookie 都被正确调用，而且你的 cookie 在\n",
    "每次发起请求时都发送到了网站上。\n",
    "• 如果你在客户端遇到了 HTTP 错误，尤其是 403 禁止访问错误，这可能说明网站已经把\n",
    "你的 IP 当作机器人了，不再接受你的任何请求。你要么等待你的 IP 地址从网站黑名单\n",
    "里移除，要么就换个 IP 地址（可以去星巴克上网，或者看看第 14 章的内容）。如果你\n",
    "确定自己并没有被封杀，那么再检查下面的内容。\n",
    "♦ 确认你的爬虫在网站上的速度不是特别快。快速采集是一种恶习，会对网管的服务\n",
    "器造成沉重的负担，还会让你陷入违法境地，也是 IP 被网站列入黑名单的首要原因。\n",
    "给你的爬虫增加延迟，让它们在夜深人静的时候运行。切记：匆匆忙忙写程序或收\n",
    "集数据都是拙劣项目管理的表现；应该提前做好计划，避免临阵慌乱。\n",
    "♦ 还有一件必须做的事情：修改你的请求头！有些网站会封杀任何声称自己是爬虫的\n",
    "访问者。如果你不确定请求头的值怎样才算合适，就用你自己浏览器的请求头吧。\n",
    "♦ 确认你没有点击或访问任何人类用户通常不能点击或接入的信息（更多信息请查阅\n",
    "12.3.2 节）。\n",
    "♦ 如果你用了一大堆复杂的手段才接入网站，考虑联系一下网管吧，告诉他们你的目的。\n",
    "试试发邮件到 webmaster@< 域名 > 或 admin@< 域名 >，请求网管允许你使用爬虫采\n",
    "集数据。管理员也是人嘛！\n",
    "\"\"\""
   ]
  },
  {
   "cell_type": "code",
   "execution_count": 15,
   "metadata": {},
   "outputs": [
    {
     "data": {
      "text/plain": [
       "'\\n第十三章:用爬虫测试网站\\n'"
      ]
     },
     "execution_count": 15,
     "metadata": {},
     "output_type": "execute_result"
    }
   ],
   "source": [
    "\"\"\"\n",
    "第十三章:用爬虫测试网站\n",
    "\"\"\"\n",
    "#目录下unitest_py.py文件\n",
    "#目录下unittest2.py文件\n",
    "#目录下unittest3.py文件\n",
    "\"\"\"\n",
    "setUpClass，这个函数只在类的初始化阶段运行一次（与每个\n",
    "测试启动时都运行的 setUp 函数不同）。用 setUpClass 代替 setUp 可以省去不必要的页面\n",
    "加载；我们可以一次性采集全部内容，供多个测试使用。\n",
    "\"\"\""
   ]
  },
  {
   "cell_type": "code",
   "execution_count": 18,
   "metadata": {},
   "outputs": [
    {
     "name": "stdout",
     "output_type": "stream",
     "text": [
      "Hello there, Ryan Mitchell!\n"
     ]
    }
   ],
   "source": [
    "\"\"\"\n",
    "Selenium 不要求单元测试必须是类的一个函数，它的\n",
    "“断言”语句也不需要括号，而且测试通过的话不会有提示，只有当测试失败时才会产生信息提示\n",
    "Selenium 也可以对任何\n",
    "给定元素执行很多操作，如下所示：\n",
    "myElement.click()\n",
    "myElement.click_and_hold()\n",
    "myElement.release()\n",
    "myElement.double_click()\n",
    "myElement.send_keys_to_element(\"content to enter\")\n",
    "\"\"\"\n",
    "from selenium import webdriver\n",
    "from selenium.webdriver.remote.webelement import WebElement\n",
    "from selenium.webdriver.common.keys import Keys\n",
    "from selenium.webdriver import ActionChains\n",
    "driver = webdriver.PhantomJS(executable_path=r'F:\\software\\phantomjs\\phantomjs-2.1.1-windows\\bin\\phantomjs.exe')\n",
    "driver.get(\"http://pythonscraping.com/pages/files/form.html\")\n",
    "firstnameField = driver.find_element_by_name(\"firstname\")\n",
    "lastnameField = driver.find_element_by_name(\"lastname\")\n",
    "submitButton = driver.find_element_by_id(\"submit\")\n",
    "### 方法1 ###\n",
    "# firstnameField.send_keys(\"Ryan\")\n",
    "# lastnameField.send_keys(\"Mitchell\")\n",
    "# submitButton.click()\n",
    "################\n",
    "### 方法2 ###\n",
    "actions = ActionChains(driver).click(firstnameField).send_keys(\"Ryan\").click(lastnameField).send_keys(\"Mitchell\").send_keys(Keys.RETURN)\n",
    "actions.perform()\n",
    "################\n",
    "print(driver.find_element_by_tag_name(\"body\").text)\n",
    "driver.close()"
   ]
  },
  {
   "cell_type": "code",
   "execution_count": 20,
   "metadata": {},
   "outputs": [
    {
     "name": "stdout",
     "output_type": "stream",
     "text": [
      "Prove you are not a bot, by dragging the square from the blue area to the red area!\n",
      "Prove you are not a bot, by dragging the square from the blue area to the red area!\n"
     ]
    }
   ],
   "source": [
    "from selenium import webdriver\n",
    "from selenium.webdriver.remote.webelement import WebElement\n",
    "from selenium.webdriver import ActionChains\n",
    "driver = webdriver.PhantomJS(executable_path=r'F:\\software\\phantomjs\\phantomjs-2.1.1-windows\\bin\\phantomjs.exe')\n",
    "driver.get('http://pythonscraping.com/pages/javascript/draggableDemo.html')\n",
    "print(driver.find_element_by_id(\"message\").text)\n",
    "element = driver.find_element_by_id(\"draggable\")\n",
    "target = driver.find_element_by_id(\"div2\")\n",
    "actions = ActionChains(driver)\n",
    "actions.drag_and_drop(element, target).perform()\n",
    "print(driver.find_element_by_id(\"message\").text)\n"
   ]
  },
  {
   "cell_type": "code",
   "execution_count": 21,
   "metadata": {},
   "outputs": [
    {
     "data": {
      "text/plain": [
       "True"
      ]
     },
     "execution_count": 21,
     "metadata": {},
     "output_type": "execute_result"
    }
   ],
   "source": [
    "from selenium import webdriver\n",
    "from selenium.webdriver.remote.webelement import WebElement\n",
    "from selenium.webdriver import ActionChains\n",
    "driver = webdriver.PhantomJS(executable_path=r'F:\\software\\phantomjs\\phantomjs-2.1.1-windows\\bin\\phantomjs.exe')\n",
    "driver.get('http://www.pythonscraping.com/')\n",
    "driver.get_screenshot_as_file('pythonscraping.png')"
   ]
  },
  {
   "cell_type": "code",
   "execution_count": 22,
   "metadata": {},
   "outputs": [],
   "source": [
    "#python单元测试和selenium单元测试结合,见目录下unittest4.py"
   ]
  },
  {
   "cell_type": "code",
   "execution_count": null,
   "metadata": {},
   "outputs": [],
   "source": [
    "\"\"\"\n",
    "第十四章:远程采集\n",
    "\"\"\"\n",
    "#洋葱路由（The Onion Router）网络，常用缩写为 Tor，是一种 IP 地址匿名手段。\n",
    "\"\"\"\n",
    "• 我需要回答或要解决的问题是什么？\n",
    "• 什么数据可以帮助我，它们都在哪里？\n",
    "• 网站是如何展示数据的？我能准确地识别网站代码中包含信息的部分吗？\n",
    "• 该如何定位这些数据并获取它们？\n",
    "• 为了让数据更实用，我应该做怎样的处理和分析？\n",
    "• 怎样才能让采集过程更好，更快，更稳定？\n",
    "\"\"\""
   ]
  }
 ],
 "metadata": {
  "kernelspec": {
   "display_name": "Python 3",
   "language": "python",
   "name": "python3"
  },
  "language_info": {
   "codemirror_mode": {
    "name": "ipython",
    "version": 3
   },
   "file_extension": ".py",
   "mimetype": "text/x-python",
   "name": "python",
   "nbconvert_exporter": "python",
   "pygments_lexer": "ipython3",
   "version": "3.6.5"
  }
 },
 "nbformat": 4,
 "nbformat_minor": 4
}
